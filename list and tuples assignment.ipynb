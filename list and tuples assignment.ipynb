{
 "cells": [
  {
   "cell_type": "markdown",
   "id": "ed3134e0",
   "metadata": {},
   "source": [
    "## help(list)"
   ]
  },
  {
   "cell_type": "code",
   "execution_count": 17,
   "id": "dbacd320",
   "metadata": {},
   "outputs": [
    {
     "name": "stdout",
     "output_type": "stream",
     "text": [
      "4\n",
      "enter first element 3\n",
      "enter the second element 2\n",
      "enter first element 4\n",
      "enter the second element 5\n",
      "enter first element 2\n",
      "enter the second element 1\n",
      "enter first element 4\n",
      "enter the second element 1\n"
     ]
    },
    {
     "data": {
      "text/plain": [
       "[(2, 1), (4, 1), (3, 2), (4, 5)]"
      ]
     },
     "execution_count": 17,
     "metadata": {},
     "output_type": "execute_result"
    }
   ],
   "source": [
    "l=[]\n",
    "n=int(input())\n",
    "for i in range(0,n):\n",
    "    j=[]\n",
    "    a=int(input(\"enter first element \"))\n",
    "    b=int(input(\"enter the second element \"))\n",
    "    j.extend([a,b])\n",
    "\n",
    "    l.append(tuple(j))\n",
    "\n",
    "def string_list(val):\n",
    "    return val[1]\n",
    "sorted(l,key=string_list)\n",
    "    \n",
    "    \n",
    "\n",
    "        \n",
    "    "
   ]
  },
  {
   "cell_type": "code",
   "execution_count": null,
   "id": "5d8f5bb4",
   "metadata": {},
   "outputs": [],
   "source": []
  }
 ],
 "metadata": {
  "kernelspec": {
   "display_name": "Python 3 (ipykernel)",
   "language": "python",
   "name": "python3"
  },
  "language_info": {
   "codemirror_mode": {
    "name": "ipython",
    "version": 3
   },
   "file_extension": ".py",
   "mimetype": "text/x-python",
   "name": "python",
   "nbconvert_exporter": "python",
   "pygments_lexer": "ipython3",
   "version": "3.10.1"
  }
 },
 "nbformat": 4,
 "nbformat_minor": 5
}
